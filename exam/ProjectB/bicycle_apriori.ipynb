{
 "metadata": {
  "language_info": {
   "codemirror_mode": {
    "name": "ipython",
    "version": 3
   },
   "file_extension": ".py",
   "mimetype": "text/x-python",
   "name": "python",
   "nbconvert_exporter": "python",
   "pygments_lexer": "ipython3",
   "version": "3.6.7-final"
  },
  "orig_nbformat": 2,
  "kernelspec": {
   "name": "python36764bit91bd9e675378495192f83f178eb5e46e",
   "display_name": "Python 3.6.7 64-bit"
  }
 },
 "nbformat": 4,
 "nbformat_minor": 2,
 "cells": [
  {
   "cell_type": "code",
   "execution_count": 1,
   "metadata": {},
   "outputs": [],
   "source": [
    "import pandas as pd"
   ]
  },
  {
   "cell_type": "code",
   "execution_count": 6,
   "metadata": {},
   "outputs": [
    {
     "output_type": "execute_result",
     "data": {
      "text/plain": "       订单日期    年份  订单数量  产品ID              产品型号名称   产品名称 产品类别    单价  销售金额  \\\n0  2016/1/1  2016     1   528  Mountain Tire Tube  车胎和内胎   配件  4.99  4.99   \n1  2016/1/2  2016     1   528  Mountain Tire Tube  车胎和内胎   配件  4.99  4.99   \n2  2016/1/2  2016     1   528  Mountain Tire Tube  车胎和内胎   配件  4.99  4.99   \n3  2016/1/5  2016     1   528  Mountain Tire Tube  车胎和内胎   配件  4.99  4.99   \n4  2016/1/6  2016     1   528  Mountain Tire Tube  车胎和内胎   配件  4.99  4.99   \n\n     产品成本      利润   客户ID  交易类型  销售区域ID 销售大区  国家    区域  \n0  1.8663  3.1237  12411     1       4  西南区  中国  大中华区  \n1  1.8663  3.1237  16720     1       4  西南区  中国  大中华区  \n2  1.8663  3.1237  25967     1       4  西南区  中国  大中华区  \n3  1.8663  3.1237  23689     1       4  西南区  中国  大中华区  \n4  1.8663  3.1237  12978     1       4  西南区  中国  大中华区  ",
      "text/html": "<div>\n<style scoped>\n    .dataframe tbody tr th:only-of-type {\n        vertical-align: middle;\n    }\n\n    .dataframe tbody tr th {\n        vertical-align: top;\n    }\n\n    .dataframe thead th {\n        text-align: right;\n    }\n</style>\n<table border=\"1\" class=\"dataframe\">\n  <thead>\n    <tr style=\"text-align: right;\">\n      <th></th>\n      <th>订单日期</th>\n      <th>年份</th>\n      <th>订单数量</th>\n      <th>产品ID</th>\n      <th>产品型号名称</th>\n      <th>产品名称</th>\n      <th>产品类别</th>\n      <th>单价</th>\n      <th>销售金额</th>\n      <th>产品成本</th>\n      <th>利润</th>\n      <th>客户ID</th>\n      <th>交易类型</th>\n      <th>销售区域ID</th>\n      <th>销售大区</th>\n      <th>国家</th>\n      <th>区域</th>\n    </tr>\n  </thead>\n  <tbody>\n    <tr>\n      <th>0</th>\n      <td>2016/1/1</td>\n      <td>2016</td>\n      <td>1</td>\n      <td>528</td>\n      <td>Mountain Tire Tube</td>\n      <td>车胎和内胎</td>\n      <td>配件</td>\n      <td>4.99</td>\n      <td>4.99</td>\n      <td>1.8663</td>\n      <td>3.1237</td>\n      <td>12411</td>\n      <td>1</td>\n      <td>4</td>\n      <td>西南区</td>\n      <td>中国</td>\n      <td>大中华区</td>\n    </tr>\n    <tr>\n      <th>1</th>\n      <td>2016/1/2</td>\n      <td>2016</td>\n      <td>1</td>\n      <td>528</td>\n      <td>Mountain Tire Tube</td>\n      <td>车胎和内胎</td>\n      <td>配件</td>\n      <td>4.99</td>\n      <td>4.99</td>\n      <td>1.8663</td>\n      <td>3.1237</td>\n      <td>16720</td>\n      <td>1</td>\n      <td>4</td>\n      <td>西南区</td>\n      <td>中国</td>\n      <td>大中华区</td>\n    </tr>\n    <tr>\n      <th>2</th>\n      <td>2016/1/2</td>\n      <td>2016</td>\n      <td>1</td>\n      <td>528</td>\n      <td>Mountain Tire Tube</td>\n      <td>车胎和内胎</td>\n      <td>配件</td>\n      <td>4.99</td>\n      <td>4.99</td>\n      <td>1.8663</td>\n      <td>3.1237</td>\n      <td>25967</td>\n      <td>1</td>\n      <td>4</td>\n      <td>西南区</td>\n      <td>中国</td>\n      <td>大中华区</td>\n    </tr>\n    <tr>\n      <th>3</th>\n      <td>2016/1/5</td>\n      <td>2016</td>\n      <td>1</td>\n      <td>528</td>\n      <td>Mountain Tire Tube</td>\n      <td>车胎和内胎</td>\n      <td>配件</td>\n      <td>4.99</td>\n      <td>4.99</td>\n      <td>1.8663</td>\n      <td>3.1237</td>\n      <td>23689</td>\n      <td>1</td>\n      <td>4</td>\n      <td>西南区</td>\n      <td>中国</td>\n      <td>大中华区</td>\n    </tr>\n    <tr>\n      <th>4</th>\n      <td>2016/1/6</td>\n      <td>2016</td>\n      <td>1</td>\n      <td>528</td>\n      <td>Mountain Tire Tube</td>\n      <td>车胎和内胎</td>\n      <td>配件</td>\n      <td>4.99</td>\n      <td>4.99</td>\n      <td>1.8663</td>\n      <td>3.1237</td>\n      <td>12978</td>\n      <td>1</td>\n      <td>4</td>\n      <td>西南区</td>\n      <td>中国</td>\n      <td>大中华区</td>\n    </tr>\n  </tbody>\n</table>\n</div>"
     },
     "metadata": {},
     "execution_count": 6
    }
   ],
   "source": [
    "with open(\"./订单表.csv\") as f:\n",
    "    df_order_list = pd.read_csv(f)\n",
    "df_order_list.head()"
   ]
  },
  {
   "cell_type": "code",
   "execution_count": 8,
   "metadata": {},
   "outputs": [
    {
     "output_type": "execute_result",
     "data": {
      "text/plain": "    客户ID\n0  28389\n1  21768\n2  25863\n3  14501\n4  11003",
      "text/html": "<div>\n<style scoped>\n    .dataframe tbody tr th:only-of-type {\n        vertical-align: middle;\n    }\n\n    .dataframe tbody tr th {\n        vertical-align: top;\n    }\n\n    .dataframe thead th {\n        text-align: right;\n    }\n</style>\n<table border=\"1\" class=\"dataframe\">\n  <thead>\n    <tr style=\"text-align: right;\">\n      <th></th>\n      <th>客户ID</th>\n    </tr>\n  </thead>\n  <tbody>\n    <tr>\n      <th>0</th>\n      <td>28389</td>\n    </tr>\n    <tr>\n      <th>1</th>\n      <td>21768</td>\n    </tr>\n    <tr>\n      <th>2</th>\n      <td>25863</td>\n    </tr>\n    <tr>\n      <th>3</th>\n      <td>14501</td>\n    </tr>\n    <tr>\n      <th>4</th>\n      <td>11003</td>\n    </tr>\n  </tbody>\n</table>\n</div>"
     },
     "metadata": {},
     "execution_count": 8
    }
   ],
   "source": [
    "with open(\"./客户.csv\") as f:\n",
    "    df_customer_list = pd.read_csv(f)\n",
    "df_customer_list.head()"
   ]
  },
  {
   "cell_type": "code",
   "execution_count": 34,
   "metadata": {},
   "outputs": [
    {
     "output_type": "execute_result",
     "data": {
      "text/plain": "  产品类别  产品ID                产品型号   产品名称\n0   配件   528  Mountain Tire Tube  车胎和内胎\n1   配件   480           Patch kit  车胎和内胎\n2   配件   537    HL Mountain Tire  车胎和内胎\n3   配件   529      Road Tire Tube  车胎和内胎\n4   配件   536    ML Mountain Tire  车胎和内胎",
      "text/html": "<div>\n<style scoped>\n    .dataframe tbody tr th:only-of-type {\n        vertical-align: middle;\n    }\n\n    .dataframe tbody tr th {\n        vertical-align: top;\n    }\n\n    .dataframe thead th {\n        text-align: right;\n    }\n</style>\n<table border=\"1\" class=\"dataframe\">\n  <thead>\n    <tr style=\"text-align: right;\">\n      <th></th>\n      <th>产品类别</th>\n      <th>产品ID</th>\n      <th>产品型号</th>\n      <th>产品名称</th>\n    </tr>\n  </thead>\n  <tbody>\n    <tr>\n      <th>0</th>\n      <td>配件</td>\n      <td>528</td>\n      <td>Mountain Tire Tube</td>\n      <td>车胎和内胎</td>\n    </tr>\n    <tr>\n      <th>1</th>\n      <td>配件</td>\n      <td>480</td>\n      <td>Patch kit</td>\n      <td>车胎和内胎</td>\n    </tr>\n    <tr>\n      <th>2</th>\n      <td>配件</td>\n      <td>537</td>\n      <td>HL Mountain Tire</td>\n      <td>车胎和内胎</td>\n    </tr>\n    <tr>\n      <th>3</th>\n      <td>配件</td>\n      <td>529</td>\n      <td>Road Tire Tube</td>\n      <td>车胎和内胎</td>\n    </tr>\n    <tr>\n      <th>4</th>\n      <td>配件</td>\n      <td>536</td>\n      <td>ML Mountain Tire</td>\n      <td>车胎和内胎</td>\n    </tr>\n  </tbody>\n</table>\n</div>"
     },
     "metadata": {},
     "execution_count": 34
    }
   ],
   "source": [
    "with open(\"./产品表.csv\") as f:\n",
    "    df_object_list = pd.read_csv(f)\n",
    "df_object_list.head()"
   ]
  },
  {
   "cell_type": "code",
   "execution_count": 9,
   "metadata": {},
   "outputs": [
    {
     "output_type": "execute_result",
     "data": {
      "text/plain": "         日期    年度  季度  月份  日    年度季度    年度月份  星期几\n0  2013/7/1  2013  Q3   7  1  2013Q3  201307    1\n1  2013/7/2  2013  Q3   7  2  2013Q3  201307    2\n2  2013/7/3  2013  Q3   7  3  2013Q3  201307    3\n3  2013/7/4  2013  Q3   7  4  2013Q3  201307    4\n4  2013/7/5  2013  Q3   7  5  2013Q3  201307    5",
      "text/html": "<div>\n<style scoped>\n    .dataframe tbody tr th:only-of-type {\n        vertical-align: middle;\n    }\n\n    .dataframe tbody tr th {\n        vertical-align: top;\n    }\n\n    .dataframe thead th {\n        text-align: right;\n    }\n</style>\n<table border=\"1\" class=\"dataframe\">\n  <thead>\n    <tr style=\"text-align: right;\">\n      <th></th>\n      <th>日期</th>\n      <th>年度</th>\n      <th>季度</th>\n      <th>月份</th>\n      <th>日</th>\n      <th>年度季度</th>\n      <th>年度月份</th>\n      <th>星期几</th>\n    </tr>\n  </thead>\n  <tbody>\n    <tr>\n      <th>0</th>\n      <td>2013/7/1</td>\n      <td>2013</td>\n      <td>Q3</td>\n      <td>7</td>\n      <td>1</td>\n      <td>2013Q3</td>\n      <td>201307</td>\n      <td>1</td>\n    </tr>\n    <tr>\n      <th>1</th>\n      <td>2013/7/2</td>\n      <td>2013</td>\n      <td>Q3</td>\n      <td>7</td>\n      <td>2</td>\n      <td>2013Q3</td>\n      <td>201307</td>\n      <td>2</td>\n    </tr>\n    <tr>\n      <th>2</th>\n      <td>2013/7/3</td>\n      <td>2013</td>\n      <td>Q3</td>\n      <td>7</td>\n      <td>3</td>\n      <td>2013Q3</td>\n      <td>201307</td>\n      <td>3</td>\n    </tr>\n    <tr>\n      <th>3</th>\n      <td>2013/7/4</td>\n      <td>2013</td>\n      <td>Q3</td>\n      <td>7</td>\n      <td>4</td>\n      <td>2013Q3</td>\n      <td>201307</td>\n      <td>4</td>\n    </tr>\n    <tr>\n      <th>4</th>\n      <td>2013/7/5</td>\n      <td>2013</td>\n      <td>Q3</td>\n      <td>7</td>\n      <td>5</td>\n      <td>2013Q3</td>\n      <td>201307</td>\n      <td>5</td>\n    </tr>\n  </tbody>\n</table>\n</div>"
     },
     "metadata": {},
     "execution_count": 9
    }
   ],
   "source": [
    "with open(\"./日期表.csv\") as f:\n",
    "    df_date_list = pd.read_csv(f)\n",
    "df_date_list.head()"
   ]
  },
  {
   "cell_type": "code",
   "execution_count": 23,
   "metadata": {
    "tags": []
   },
   "outputs": [
    {
     "output_type": "execute_result",
     "data": {
      "text/plain": "     0     1     2     3     4     5     6     7\n0  344  None  None  None  None  None  None  None\n1  314  None  None  None  None  None  None  None\n2  328  None  None  None  None  None  None  None\n3  311  None  None  None  None  None  None  None\n4  314  None  None  None  None  None  None  None",
      "text/html": "<div>\n<style scoped>\n    .dataframe tbody tr th:only-of-type {\n        vertical-align: middle;\n    }\n\n    .dataframe tbody tr th {\n        vertical-align: top;\n    }\n\n    .dataframe thead th {\n        text-align: right;\n    }\n</style>\n<table border=\"1\" class=\"dataframe\">\n  <thead>\n    <tr style=\"text-align: right;\">\n      <th></th>\n      <th>0</th>\n      <th>1</th>\n      <th>2</th>\n      <th>3</th>\n      <th>4</th>\n      <th>5</th>\n      <th>6</th>\n      <th>7</th>\n    </tr>\n  </thead>\n  <tbody>\n    <tr>\n      <th>0</th>\n      <td>344</td>\n      <td>None</td>\n      <td>None</td>\n      <td>None</td>\n      <td>None</td>\n      <td>None</td>\n      <td>None</td>\n      <td>None</td>\n    </tr>\n    <tr>\n      <th>1</th>\n      <td>314</td>\n      <td>None</td>\n      <td>None</td>\n      <td>None</td>\n      <td>None</td>\n      <td>None</td>\n      <td>None</td>\n      <td>None</td>\n    </tr>\n    <tr>\n      <th>2</th>\n      <td>328</td>\n      <td>None</td>\n      <td>None</td>\n      <td>None</td>\n      <td>None</td>\n      <td>None</td>\n      <td>None</td>\n      <td>None</td>\n    </tr>\n    <tr>\n      <th>3</th>\n      <td>311</td>\n      <td>None</td>\n      <td>None</td>\n      <td>None</td>\n      <td>None</td>\n      <td>None</td>\n      <td>None</td>\n      <td>None</td>\n    </tr>\n    <tr>\n      <th>4</th>\n      <td>314</td>\n      <td>None</td>\n      <td>None</td>\n      <td>None</td>\n      <td>None</td>\n      <td>None</td>\n      <td>None</td>\n      <td>None</td>\n    </tr>\n  </tbody>\n</table>\n</div>"
     },
     "metadata": {},
     "execution_count": 23
    }
   ],
   "source": [
    "# 提取每一天每一位顾客购买的产品列表\n",
    "transaction_list = []\n",
    "df_order_group_by_date = df_order_list.groupby(\"订单日期\")\n",
    "for date, df_daily_order in df_order_group_by_date:\n",
    "    df_daily_order_group_by_customer = df_daily_order.groupby(\"客户ID\")\n",
    "    for customer_id, df_customer_daily_order in df_daily_order_group_by_customer:\n",
    "        transaction_list.append([str(ele) for ele in list(df_customer_daily_order[\"产品ID\"])])\n",
    "\n",
    "df_transaction_list = pd.DataFrame(transaction_list)\n",
    "df_transaction_list.head()"
   ]
  },
  {
   "cell_type": "code",
   "execution_count": 25,
   "metadata": {},
   "outputs": [
    {
     "output_type": "execute_result",
     "data": {
      "text/plain": "     0 1 2 3 4 5 6 7\n0  344              \n1  314              \n2  328              \n3  311              \n4  314              ",
      "text/html": "<div>\n<style scoped>\n    .dataframe tbody tr th:only-of-type {\n        vertical-align: middle;\n    }\n\n    .dataframe tbody tr th {\n        vertical-align: top;\n    }\n\n    .dataframe thead th {\n        text-align: right;\n    }\n</style>\n<table border=\"1\" class=\"dataframe\">\n  <thead>\n    <tr style=\"text-align: right;\">\n      <th></th>\n      <th>0</th>\n      <th>1</th>\n      <th>2</th>\n      <th>3</th>\n      <th>4</th>\n      <th>5</th>\n      <th>6</th>\n      <th>7</th>\n    </tr>\n  </thead>\n  <tbody>\n    <tr>\n      <th>0</th>\n      <td>344</td>\n      <td></td>\n      <td></td>\n      <td></td>\n      <td></td>\n      <td></td>\n      <td></td>\n      <td></td>\n    </tr>\n    <tr>\n      <th>1</th>\n      <td>314</td>\n      <td></td>\n      <td></td>\n      <td></td>\n      <td></td>\n      <td></td>\n      <td></td>\n      <td></td>\n    </tr>\n    <tr>\n      <th>2</th>\n      <td>328</td>\n      <td></td>\n      <td></td>\n      <td></td>\n      <td></td>\n      <td></td>\n      <td></td>\n      <td></td>\n    </tr>\n    <tr>\n      <th>3</th>\n      <td>311</td>\n      <td></td>\n      <td></td>\n      <td></td>\n      <td></td>\n      <td></td>\n      <td></td>\n      <td></td>\n    </tr>\n    <tr>\n      <th>4</th>\n      <td>314</td>\n      <td></td>\n      <td></td>\n      <td></td>\n      <td></td>\n      <td></td>\n      <td></td>\n      <td></td>\n    </tr>\n  </tbody>\n</table>\n</div>"
     },
     "metadata": {},
     "execution_count": 25
    }
   ],
   "source": [
    "# 使用空字节填充NaN\n",
    "dataset = df_transaction_list.fillna('')\n",
    "dataset.head()"
   ]
  },
  {
   "cell_type": "code",
   "execution_count": 27,
   "metadata": {},
   "outputs": [
    {
     "output_type": "execute_result",
     "data": {
      "text/plain": "  transactions\n0   344,,,,,,,\n1   314,,,,,,,\n2   328,,,,,,,\n3   311,,,,,,,\n4   314,,,,,,,",
      "text/html": "<div>\n<style scoped>\n    .dataframe tbody tr th:only-of-type {\n        vertical-align: middle;\n    }\n\n    .dataframe tbody tr th {\n        vertical-align: top;\n    }\n\n    .dataframe thead th {\n        text-align: right;\n    }\n</style>\n<table border=\"1\" class=\"dataframe\">\n  <thead>\n    <tr style=\"text-align: right;\">\n      <th></th>\n      <th>transactions</th>\n    </tr>\n  </thead>\n  <tbody>\n    <tr>\n      <th>0</th>\n      <td>344,,,,,,,</td>\n    </tr>\n    <tr>\n      <th>1</th>\n      <td>314,,,,,,,</td>\n    </tr>\n    <tr>\n      <th>2</th>\n      <td>328,,,,,,,</td>\n    </tr>\n    <tr>\n      <th>3</th>\n      <td>311,,,,,,,</td>\n    </tr>\n    <tr>\n      <th>4</th>\n      <td>314,,,,,,,</td>\n    </tr>\n  </tbody>\n</table>\n</div>"
     },
     "metadata": {},
     "execution_count": 27
    }
   ],
   "source": [
    "# 将每一行数据组合成一列，用逗号分隔\n",
    "dataset_combined = dataset[0]\n",
    "for i in range(1, len(dataset.columns)):\n",
    "    dataset_combined = dataset_combined + ',' + dataset[i]\n",
    "dataset_combined = pd.DataFrame(dataset_combined)\n",
    "dataset_combined.columns = ['transactions']\n",
    "dataset_combined.head()"
   ]
  },
  {
   "cell_type": "code",
   "execution_count": 28,
   "metadata": {},
   "outputs": [
    {
     "output_type": "execute_result",
     "data": {
      "text/plain": "   214  217  222  225  228  231  234  237  310  311  ...  594  595  596  597  \\\n0    0    0    0    0    0    0    0    0    0    0  ...    0    0    0    0   \n1    0    0    0    0    0    0    0    0    0    0  ...    0    0    0    0   \n2    0    0    0    0    0    0    0    0    0    0  ...    0    0    0    0   \n3    0    0    0    0    0    0    0    0    0    1  ...    0    0    0    0   \n4    0    0    0    0    0    0    0    0    0    0  ...    0    0    0    0   \n\n   598  599  600  604  605  606  \n0    0    0    0    0    0    0  \n1    0    0    0    0    0    0  \n2    0    0    0    0    0    0  \n3    0    0    0    0    0    0  \n4    0    0    0    0    0    0  \n\n[5 rows x 158 columns]",
      "text/html": "<div>\n<style scoped>\n    .dataframe tbody tr th:only-of-type {\n        vertical-align: middle;\n    }\n\n    .dataframe tbody tr th {\n        vertical-align: top;\n    }\n\n    .dataframe thead th {\n        text-align: right;\n    }\n</style>\n<table border=\"1\" class=\"dataframe\">\n  <thead>\n    <tr style=\"text-align: right;\">\n      <th></th>\n      <th>214</th>\n      <th>217</th>\n      <th>222</th>\n      <th>225</th>\n      <th>228</th>\n      <th>231</th>\n      <th>234</th>\n      <th>237</th>\n      <th>310</th>\n      <th>311</th>\n      <th>...</th>\n      <th>594</th>\n      <th>595</th>\n      <th>596</th>\n      <th>597</th>\n      <th>598</th>\n      <th>599</th>\n      <th>600</th>\n      <th>604</th>\n      <th>605</th>\n      <th>606</th>\n    </tr>\n  </thead>\n  <tbody>\n    <tr>\n      <th>0</th>\n      <td>0</td>\n      <td>0</td>\n      <td>0</td>\n      <td>0</td>\n      <td>0</td>\n      <td>0</td>\n      <td>0</td>\n      <td>0</td>\n      <td>0</td>\n      <td>0</td>\n      <td>...</td>\n      <td>0</td>\n      <td>0</td>\n      <td>0</td>\n      <td>0</td>\n      <td>0</td>\n      <td>0</td>\n      <td>0</td>\n      <td>0</td>\n      <td>0</td>\n      <td>0</td>\n    </tr>\n    <tr>\n      <th>1</th>\n      <td>0</td>\n      <td>0</td>\n      <td>0</td>\n      <td>0</td>\n      <td>0</td>\n      <td>0</td>\n      <td>0</td>\n      <td>0</td>\n      <td>0</td>\n      <td>0</td>\n      <td>...</td>\n      <td>0</td>\n      <td>0</td>\n      <td>0</td>\n      <td>0</td>\n      <td>0</td>\n      <td>0</td>\n      <td>0</td>\n      <td>0</td>\n      <td>0</td>\n      <td>0</td>\n    </tr>\n    <tr>\n      <th>2</th>\n      <td>0</td>\n      <td>0</td>\n      <td>0</td>\n      <td>0</td>\n      <td>0</td>\n      <td>0</td>\n      <td>0</td>\n      <td>0</td>\n      <td>0</td>\n      <td>0</td>\n      <td>...</td>\n      <td>0</td>\n      <td>0</td>\n      <td>0</td>\n      <td>0</td>\n      <td>0</td>\n      <td>0</td>\n      <td>0</td>\n      <td>0</td>\n      <td>0</td>\n      <td>0</td>\n    </tr>\n    <tr>\n      <th>3</th>\n      <td>0</td>\n      <td>0</td>\n      <td>0</td>\n      <td>0</td>\n      <td>0</td>\n      <td>0</td>\n      <td>0</td>\n      <td>0</td>\n      <td>0</td>\n      <td>1</td>\n      <td>...</td>\n      <td>0</td>\n      <td>0</td>\n      <td>0</td>\n      <td>0</td>\n      <td>0</td>\n      <td>0</td>\n      <td>0</td>\n      <td>0</td>\n      <td>0</td>\n      <td>0</td>\n    </tr>\n    <tr>\n      <th>4</th>\n      <td>0</td>\n      <td>0</td>\n      <td>0</td>\n      <td>0</td>\n      <td>0</td>\n      <td>0</td>\n      <td>0</td>\n      <td>0</td>\n      <td>0</td>\n      <td>0</td>\n      <td>...</td>\n      <td>0</td>\n      <td>0</td>\n      <td>0</td>\n      <td>0</td>\n      <td>0</td>\n      <td>0</td>\n      <td>0</td>\n      <td>0</td>\n      <td>0</td>\n      <td>0</td>\n    </tr>\n  </tbody>\n</table>\n<p>5 rows × 158 columns</p>\n</div>"
     },
     "metadata": {},
     "execution_count": 28
    }
   ],
   "source": [
    "# 将物品转化为one hot编码\n",
    "dataset = dataset_combined['transactions'].str.get_dummies(',')\n",
    "dataset.head(5)"
   ]
  },
  {
   "cell_type": "code",
   "execution_count": 38,
   "metadata": {
    "tags": []
   },
   "outputs": [
    {
     "output_type": "stream",
     "name": "stdout",
     "text": "频繁项集：      support    itemsets\n0   0.153632       (477)\n1   0.115541       (480)\n2   0.112065       (528)\n3   0.085958       (529)\n4   0.080744       (214)\n5   0.079296       (225)\n6   0.076906       (222)\n7   0.076798       (485)\n8   0.075494       (217)\n9   0.073322       (478)\n10  0.061989       (479)\n11  0.061264  (477, 478)\n12  0.055073  (477, 479)\n13  0.053842       (530)\n14  0.050547       (537)\n15  0.042038       (536)\n16  0.037801       (538)\n17  0.034651  (528, 537)\n18  0.033855       (541)\n19  0.033529       (539)\n20  0.032877       (484)\n21  0.031212       (535)\n22  0.030994       (540)\n23  0.029256  (541, 530)\n24  0.028605  (528, 480)\n25  0.028098  (528, 536)\n26  0.026541       (487)\n27  0.022666  (477, 225)\n28  0.021942  (529, 539)\n29  0.021580  (529, 480)\n30  0.021544  (540, 529)\n31  0.020132  (538, 529)\n32  0.018068       (465)\n33  0.017670       (463)\n34  0.017308  (528, 535)\n35  0.016402  (528, 217)\n36  0.016366       (234)\n37  0.016040       (467)\n38  0.016004       (231)\n39  0.015932  (528, 214)\n40  0.015751  (528, 222)\n41  0.015533       (228)\n42  0.015461       (361)\n43  0.015280       (353)\n44  0.015171       (363)\n45  0.015063       (359)\n关联规则：    antecedents consequents  antecedent support  consequent support   support  \\\n0        (541)       (530)            0.033855            0.053842  0.029256   \n1        (530)       (541)            0.053842            0.033855  0.029256   \n2        (529)       (540)            0.085958            0.030994  0.021544   \n3        (540)       (529)            0.030994            0.085958  0.021544   \n4        (539)       (529)            0.033529            0.085958  0.021942   \n5        (529)       (539)            0.085958            0.033529  0.021942   \n6        (529)       (538)            0.085958            0.037801  0.020132   \n7        (538)       (529)            0.037801            0.085958  0.020132   \n8        (537)       (528)            0.050547            0.112065  0.034651   \n9        (528)       (537)            0.112065            0.050547  0.034651   \n10       (536)       (528)            0.042038            0.112065  0.028098   \n11       (528)       (536)            0.112065            0.042038  0.028098   \n12       (477)       (479)            0.153632            0.061989  0.055073   \n13       (479)       (477)            0.061989            0.153632  0.055073   \n14       (478)       (477)            0.073322            0.153632  0.061264   \n15       (477)       (478)            0.153632            0.073322  0.061264   \n16       (535)       (528)            0.031212            0.112065  0.017308   \n17       (528)       (535)            0.112065            0.031212  0.017308   \n18       (480)       (528)            0.115541            0.112065  0.028605   \n19       (528)       (480)            0.112065            0.115541  0.028605   \n20       (529)       (480)            0.085958            0.115541  0.021580   \n21       (480)       (529)            0.115541            0.085958  0.021580   \n22       (217)       (528)            0.075494            0.112065  0.016402   \n23       (528)       (217)            0.112065            0.075494  0.016402   \n24       (225)       (477)            0.079296            0.153632  0.022666   \n25       (477)       (225)            0.153632            0.079296  0.022666   \n26       (528)       (222)            0.112065            0.076906  0.015751   \n27       (222)       (528)            0.076906            0.112065  0.015751   \n28       (528)       (214)            0.112065            0.080744  0.015932   \n29       (214)       (528)            0.080744            0.112065  0.015932   \n\n    confidence       lift  leverage  conviction  \n0     0.864171  16.050221  0.027433    6.965811  \n1     0.543376  16.050221  0.027433    2.115844  \n2     0.250632   8.086391  0.018880    1.293097  \n3     0.695093   8.086391  0.018880    2.997776  \n4     0.654428   7.613304  0.019060    2.645008  \n5     0.255265   7.613304  0.019060    1.297739  \n6     0.234204   6.195635  0.016882    1.256468  \n7     0.532567   6.195635  0.016882    1.955450  \n8     0.685530   6.117276  0.028987    2.823594  \n9     0.309208   6.117276  0.028987    1.374442  \n10    0.668389   5.964322  0.023387    2.677644  \n11    0.250727   5.964322  0.023387    1.278522  \n12    0.358473   5.782886  0.045549    1.462154  \n13    0.888435   5.782886  0.045549    7.586296  \n14    0.835556   5.438693  0.050000    5.146834  \n15    0.398774   5.438693  0.050000    1.541315  \n16    0.554524   4.948256  0.013810    1.993230  \n17    0.154443   4.948256  0.013810    1.145740  \n18    0.247571   2.209184  0.015657    1.180092  \n19    0.255250   2.209184  0.015657    1.187593  \n20    0.251053   2.172856  0.011648    1.180937  \n21    0.186775   2.172856  0.011648    1.123972  \n22    0.217266   1.938758  0.007942    1.134403  \n23    0.146365   1.938758  0.007942    1.083022  \n24    0.285845   1.860585  0.010484    1.185132  \n25    0.147537   1.860585  0.010484    1.080052  \n26    0.140549   1.827538  0.007132    1.074051  \n27    0.204802   1.827538  0.007132    1.116622  \n28    0.142165   1.760676  0.006883    1.071599  \n29    0.197309   1.760676  0.006883    1.106199  \n"
    }
   ],
   "source": [
    "# 使用mlxtend提炼数据中的关联规则\n",
    "from mlxtend.frequent_patterns import apriori\n",
    "from mlxtend.frequent_patterns import association_rules\n",
    "\n",
    "frequent_itemsets = apriori(dataset, min_support=0.015, use_colnames=True)\n",
    "frequent_itemsets = frequent_itemsets.sort_values(by=\"support\" , ascending=False)\n",
    "frequent_itemsets = frequent_itemsets.reset_index(drop=True)\n",
    "rules = association_rules(frequent_itemsets, metric=\"lift\", min_threshold=1.5)\n",
    "rules = rules.sort_values(by=\"lift\" , ascending=False)\n",
    "rules = rules.reset_index(drop=True)\n",
    "print(\"频繁项集：\", frequent_itemsets)\n",
    "print(\"关联规则：\", rules)"
   ]
  },
  {
   "cell_type": "code",
   "execution_count": 56,
   "metadata": {
    "tags": []
   },
   "outputs": [
    {
     "output_type": "stream",
     "name": "stdout",
     "text": "No.1 sold itemset\n    产品类别  产品ID          产品型号    产品名称\n156   配件   477  Water Bottle  水壶和水壶架\n\nNo.2 sold itemset\n  产品类别  产品ID       产品型号   产品名称\n1   配件   480  Patch kit  车胎和内胎\n\nNo.3 sold itemset\n  产品类别  产品ID                产品型号   产品名称\n0   配件   528  Mountain Tire Tube  车胎和内胎\n\n"
    }
   ],
   "source": [
    "# 打印前三个最畅销的商品组合\n",
    "for i, items in enumerate(frequent_itemsets['itemsets'][:3]):\n",
    "    print('No.' + str(i + 1) + ' sold itemset')\n",
    "    for item in items:\n",
    "        print(df_object_list[df_object_list[\"产品ID\"] == int(item)])\n",
    "    print()"
   ]
  },
  {
   "cell_type": "code",
   "execution_count": 57,
   "metadata": {
    "tags": []
   },
   "outputs": [
    {
     "output_type": "stream",
     "name": "stdout",
     "text": "No.1 support item group\nantecedents:\n  产品类别  产品ID          产品型号   产品名称\n8   配件   541  Touring Tire  车胎和内胎\nconsequents:\n  产品类别  产品ID               产品型号   产品名称\n5   配件   530  Touring Tire Tube  车胎和内胎\n\nNo.2 support item group\nantecedents:\n  产品类别  产品ID               产品型号   产品名称\n5   配件   530  Touring Tire Tube  车胎和内胎\nconsequents:\n  产品类别  产品ID          产品型号   产品名称\n8   配件   541  Touring Tire  车胎和内胎\n\nNo.3 support item group\nantecedents:\n  产品类别  产品ID            产品型号   产品名称\n3   配件   529  Road Tire Tube  车胎和内胎\nconsequents:\n  产品类别  产品ID          产品型号   产品名称\n6   配件   540  HL Road Tire  车胎和内胎\n\n"
    }
   ],
   "source": [
    "# 打印lift前三的商品组合\n",
    "i = 1\n",
    "for antecedents, consequents in zip(rules['antecedents'][:3], rules['consequents'][:3]):\n",
    "    print('No.' + str(i) + ' support item group')\n",
    "    print('antecedents:')\n",
    "    for item in antecedents:\n",
    "        print(df_object_list[df_object_list[\"产品ID\"] == int(item)])\n",
    "    print('consequents:')\n",
    "    for item in consequents:\n",
    "        print(df_object_list[df_object_list[\"产品ID\"] == int(item)])\n",
    "    i += 1\n",
    "    print()"
   ]
  },
  {
   "cell_type": "code",
   "execution_count": null,
   "metadata": {},
   "outputs": [],
   "source": []
  }
 ]
}